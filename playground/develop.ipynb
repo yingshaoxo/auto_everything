{
 "cells": [
  {
   "cell_type": "code",
   "execution_count": 1,
   "metadata": {},
   "outputs": [
    {
     "data": {
      "text/plain": [
       "2"
      ]
     },
     "execution_count": 1,
     "metadata": {},
     "output_type": "execute_result"
    }
   ],
   "source": [
    "1+1"
   ]
  },
  {
   "cell_type": "code",
   "execution_count": 2,
   "metadata": {},
   "outputs": [],
   "source": [
    "proto_string = \"\"\"\n",
    "syntax = \"proto3\";\n",
    "package helloworld;\n",
    "\n",
    "service Greeter {\n",
    "    rpc SayHello (HelloRequest) returns (HelloReply);\n",
    "    rpc SendVoice(stream VoiceRequest) returns (Empty);\n",
    "    rpc GetVoice(Empty) returns (stream VoiceReply);\n",
    "    rpc GetCurrentUsersUUID(Empty) returns (CurrentUsersUUIDReply);\n",
    "    rpc StartSpeaking(StartSpeakingRequest) returns (Empty);\n",
    "    rpc StopSpeaking(StopSpeakingRequest) returns (Empty);\n",
    "}\n",
    "\n",
    "message Empty {\n",
    "}\n",
    "\n",
    "message VoiceRequest {\n",
    "    string uuid = 1;\n",
    "    int64 timestamp = 2;\n",
    "    bytes voice = 3;\n",
    "}\n",
    "\n",
    "message VoiceReply {\n",
    "    string uuid = 1;\n",
    "    int64 timestamp = 2;\n",
    "    bytes voice = 3;\n",
    "}\n",
    "\n",
    "message CurrentUsersUUIDReply {\n",
    "    repeated string uuid = 1;\n",
    "}\n",
    "\n",
    "message StartSpeakingRequest {\n",
    "    string uuid = 1;\n",
    "}\n",
    "\n",
    "message StopSpeakingRequest {\n",
    "    string uuid = 1;\n",
    "}\n",
    "\n",
    "message HelloRequest {\n",
    "   string name = 1;\n",
    "}\n",
    "\n",
    "message HelloReply {\n",
    "    string message = 1;\n",
    "}\n",
    "\"\"\""
   ]
  },
  {
   "cell_type": "code",
   "execution_count": 3,
   "metadata": {},
   "outputs": [],
   "source": [
    "import re"
   ]
  },
  {
   "cell_type": "code",
   "execution_count": 8,
   "metadata": {},
   "outputs": [
    {
     "data": {
      "text/plain": [
       "[['Empty', ''],\n",
       " ['VoiceRequest',\n",
       "  'string uuid = 1;\\n    int64 timestamp = 2;\\n    bytes voice = 3;'],\n",
       " ['VoiceReply',\n",
       "  'string uuid = 1;\\n    int64 timestamp = 2;\\n    bytes voice = 3;'],\n",
       " ['CurrentUsersUUIDReply', 'repeated string uuid = 1;'],\n",
       " ['StartSpeakingRequest', 'string uuid = 1;'],\n",
       " ['StopSpeakingRequest', 'string uuid = 1;'],\n",
       " ['HelloRequest', 'string name = 1;'],\n",
       " ['HelloReply', 'string message = 1;']]"
      ]
     },
     "execution_count": 8,
     "metadata": {},
     "output_type": "execute_result"
    }
   ],
   "source": [
    "found = re.findall(r\"message\\s+(?P<object_name>\\w+)\\s+\\{(?P<properties>(\\s*.*?\\s*)+)\\}\", proto_string, re.DOTALL)\n",
    "found = [\n",
    "            [string.strip() for string in one][:2]\n",
    "            for one in found\n",
    "        ]\n",
    "found"
   ]
  },
  {
   "cell_type": "code",
   "execution_count": 11,
   "metadata": {},
   "outputs": [
    {
     "name": "stdout",
     "output_type": "stream",
     "text": [
      "VoiceRequest ['uuid', 'timestamp', 'voice']\n",
      "VoiceReply ['uuid', 'timestamp', 'voice']\n",
      "CurrentUsersUUIDReply ['uuid']\n",
      "StartSpeakingRequest ['uuid']\n",
      "StopSpeakingRequest ['uuid']\n",
      "HelloRequest ['name']\n",
      "HelloReply ['message']\n"
     ]
    }
   ],
   "source": [
    "for one in found:\n",
    "    if len(one) == 2:\n",
    "        class_name = one[0]\n",
    "        property_text = one[1]\n",
    "        if len(property_text) == 0:\n",
    "            continue\n",
    "        property_list = re.findall(r\"\\w+\\s+(?P<property>\\w+)\\s+=\\s+\\d+;\", property_text)\n",
    "        #property_list = [f\"{one[0]}:{property}\" for property in property_list]\n",
    "        print(class_name, property_list)"
   ]
  },
  {
   "cell_type": "code",
   "execution_count": null,
   "metadata": {},
   "outputs": [],
   "source": []
  }
 ],
 "metadata": {
  "kernelspec": {
   "display_name": "Python 3.10.8 64-bit",
   "language": "python",
   "name": "python3"
  },
  "language_info": {
   "codemirror_mode": {
    "name": "ipython",
    "version": 3
   },
   "file_extension": ".py",
   "mimetype": "text/x-python",
   "name": "python",
   "nbconvert_exporter": "python",
   "pygments_lexer": "ipython3",
   "version": "3.10.9"
  },
  "orig_nbformat": 4,
  "vscode": {
   "interpreter": {
    "hash": "b0fa6594d8f4cbf19f97940f81e996739fb7646882a419484c72d19e05852a7e"
   }
  }
 },
 "nbformat": 4,
 "nbformat_minor": 2
}
