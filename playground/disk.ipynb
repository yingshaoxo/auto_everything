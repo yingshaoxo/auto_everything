{
 "cells": [
  {
   "cell_type": "code",
   "execution_count": 1,
   "metadata": {},
   "outputs": [],
   "source": [
    "from auto_everything.disk import Disk\n",
    "\n",
    "disk = Disk()"
   ]
  },
  {
   "cell_type": "code",
   "execution_count": 5,
   "metadata": {},
   "outputs": [
    {
     "name": "stdout",
     "output_type": "stream",
     "text": [
      "_FileInfo(level=0, path='./minimum_example', is_folder=True, is_file=False, folder='.', name='minimum_example')\n",
      "_FileInfo(level=0, path='./.ipynb_checkpoints', is_folder=True, is_file=False, folder='.', name='.ipynb_checkpoints')\n",
      "_FileInfo(level=0, path='./video.ipynb', is_folder=True, is_file=False, folder='.', name='video.ipynb')\n"
     ]
    }
   ],
   "source": [
    "files = disk.get_folder_and_files(\".\")\n",
    "for index, file in enumerate(files):\n",
    "    #print(file.path, file.level, file.folder, file.name, file.is_file, file.is_folder)\n",
    "    print(file)\n",
    "    if index > 1:\n",
    "        break"
   ]
  },
  {
   "cell_type": "code",
   "execution_count": null,
   "metadata": {},
   "outputs": [],
   "source": []
  }
 ],
 "metadata": {
  "kernelspec": {
   "display_name": "Python 3.10.8 64-bit",
   "language": "python",
   "name": "python3"
  },
  "language_info": {
   "codemirror_mode": {
    "name": "ipython",
    "version": 3
   },
   "file_extension": ".py",
   "mimetype": "text/x-python",
   "name": "python",
   "nbconvert_exporter": "python",
   "pygments_lexer": "ipython3",
   "version": "3.10.8"
  },
  "orig_nbformat": 4,
  "vscode": {
   "interpreter": {
    "hash": "b0fa6594d8f4cbf19f97940f81e996739fb7646882a419484c72d19e05852a7e"
   }
  }
 },
 "nbformat": 4,
 "nbformat_minor": 2
}
