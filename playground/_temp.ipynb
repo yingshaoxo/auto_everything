{
 "cells": [
  {
   "cell_type": "code",
   "execution_count": 1,
   "metadata": {},
   "outputs": [
    {
     "name": "stdout",
     "output_type": "stream",
     "text": [
      "Collecting deepfilternet\n",
      "  Using cached deepfilternet-0.3.1-py3-none-any.whl (101 kB)\n",
      "Collecting loguru>=0.5\n",
      "  Using cached loguru-0.6.0-py3-none-any.whl (58 kB)\n",
      "Collecting deepfilternet\n",
      "  Using cached deepfilternet-0.3.0-py3-none-any.whl (100 kB)\n",
      "Requirement already satisfied: requests<3.0,>=2.27 in /Users/yingshaoxo/Library/Caches/pypoetry/virtualenvs/auto-everything-cDiyOUBy-py3.10/lib/python3.10/site-packages (from deepfilternet) (2.28.1)\n",
      "  Using cached DeepFilterNet-0.2.5-py3-none-any.whl (83 kB)\n",
      "  Using cached DeepFilterNet-0.2.4-py3-none-any.whl (15.4 MB)\n",
      "Requirement already satisfied: numpy<2.0,>=1.20 in /Users/yingshaoxo/Library/Caches/pypoetry/virtualenvs/auto-everything-cDiyOUBy-py3.10/lib/python3.10/site-packages (from deepfilternet) (1.23.5)\n",
      "Requirement already satisfied: typing_extensions<5.0,>=4.0 in /Users/yingshaoxo/Library/Caches/pypoetry/virtualenvs/auto-everything-cDiyOUBy-py3.10/lib/python3.10/site-packages (from deepfilternet) (4.4.0)\n",
      "Collecting deepfilterlib==0.2.4\n",
      "  Using cached DeepFilterLib-0.2.4-cp310-cp310-macosx_11_0_arm64.whl\n",
      "Installing collected packages: loguru, deepfilterlib, deepfilternet\n",
      "Successfully installed deepfilterlib-0.2.4 deepfilternet-0.2.4 loguru-0.6.0\n"
     ]
    }
   ],
   "source": [
    "!pip install deepfilternet\n"
   ]
  },
  {
   "cell_type": "code",
   "execution_count": 4,
   "metadata": {},
   "outputs": [
    {
     "name": "stdout",
     "output_type": "stream",
     "text": [
      "\u001b[32m2022-12-11 14:32:44\u001b[0m | \u001b[1mINFO    \u001b[0m | \u001b[36mDF\u001b[0m | \u001b[1mRunning on torch 1.13.0\u001b[0m\n",
      "\u001b[32m2022-12-11 14:32:44\u001b[0m | \u001b[1mINFO    \u001b[0m | \u001b[36mDF\u001b[0m | \u001b[1mRunning on host macos.local\u001b[0m\n",
      "fatal: not a git repository (or any of the parent directories): .git\n",
      "\u001b[32m2022-12-11 14:32:44\u001b[0m | \u001b[1mINFO    \u001b[0m | \u001b[36mDF\u001b[0m | \u001b[1mLoading model settings of DeepFilterNet2\u001b[0m\n",
      "\u001b[32m2022-12-11 14:32:44\u001b[0m | \u001b[1mINFO    \u001b[0m | \u001b[36mDF\u001b[0m | \u001b[1mUsing DeepFilterNet2 model at ../../../Library/Caches/pypoetry/virtualenvs/auto-everything-cDiyOUBy-py3.10/lib/python3.10/site-packages/pretrained_models/DeepFilterNet2\u001b[0m\n",
      "\u001b[32m2022-12-11 14:32:44\u001b[0m | \u001b[1mINFO    \u001b[0m | \u001b[36mDF\u001b[0m | \u001b[1mInitializing model `deepfilternet2`\u001b[0m\n",
      "\u001b[32m2022-12-11 14:32:44\u001b[0m | \u001b[1mINFO    \u001b[0m | \u001b[36mDF\u001b[0m | \u001b[1mFound checkpoint ../../../Library/Caches/pypoetry/virtualenvs/auto-everything-cDiyOUBy-py3.10/lib/python3.10/site-packages/pretrained_models/DeepFilterNet2/checkpoints/model_96.ckpt.best with epoch 96\u001b[0m\n",
      "\u001b[32m2022-12-11 14:32:44\u001b[0m | \u001b[33m\u001b[1mWARNING \u001b[0m | \u001b[36mDF\u001b[0m | \u001b[33m\u001b[1mUnexpected key: erb_comp.c\u001b[0m\n",
      "\u001b[32m2022-12-11 14:32:44\u001b[0m | \u001b[33m\u001b[1mWARNING \u001b[0m | \u001b[36mDF\u001b[0m | \u001b[33m\u001b[1mUnexpected key: erb_comp.mn\u001b[0m\n",
      "\u001b[32m2022-12-11 14:32:44\u001b[0m | \u001b[1mINFO    \u001b[0m | \u001b[36mDF\u001b[0m | \u001b[1mModel loaded\u001b[0m\n",
      "\u001b[32m2022-12-11 14:32:44\u001b[0m | \u001b[33m\u001b[1mWARNING \u001b[0m | \u001b[36mDF\u001b[0m | \u001b[33m\u001b[1mAudio sampling rate does not match model sampling rate (16000, 48000). Resampling...\u001b[0m\n",
      "\u001b[32m2022-12-11 14:32:44\u001b[0m | \u001b[1mINFO    \u001b[0m | \u001b[36mDF\u001b[0m | \u001b[1mEnhanced noisy audio file 'noisy talk.wav' in 0.3s (RT factor: 0.031)\u001b[0m\n"
     ]
    }
   ],
   "source": [
    "!deepFilter ~/Downloads/noisy\\ talk.wav  --output-dir ~/Downloads"
   ]
  },
  {
   "cell_type": "code",
   "execution_count": null,
   "metadata": {},
   "outputs": [],
   "source": []
  }
 ],
 "metadata": {
  "kernelspec": {
   "display_name": "auto-everything-cDiyOUBy-py3.10",
   "language": "python",
   "name": "python3"
  },
  "language_info": {
   "codemirror_mode": {
    "name": "ipython",
    "version": 3
   },
   "file_extension": ".py",
   "mimetype": "text/x-python",
   "name": "python",
   "nbconvert_exporter": "python",
   "pygments_lexer": "ipython3",
   "version": "3.10.8"
  },
  "orig_nbformat": 4,
  "vscode": {
   "interpreter": {
    "hash": "a384dc216530652050c8cd7c4cbf905d0dc1316b6a001de8640139c414a762e1"
   }
  }
 },
 "nbformat": 4,
 "nbformat_minor": 2
}
