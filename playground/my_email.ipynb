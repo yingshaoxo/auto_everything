{
 "cells": [
  {
   "cell_type": "code",
   "execution_count": 7,
   "metadata": {},
   "outputs": [
    {
     "name": "stdout",
     "output_type": "stream",
     "text": [
      "['Re: Hello again', 'login: aaaaaaaaaabbbbbbbbbb', 'Hi']\n",
      "found:  Re: Hello again\n"
     ]
    }
   ],
   "source": [
    "import re\n",
    "\n",
    "source_text = \"\"\"\n",
    "Date: Mon, 20 Mar 2023 17:17:55 +0800\n",
    "Message-ID: <CAL9s7Wps82rNktmK5B=mSL_8+6DV6Vv02hUhHUxd1wDw64NEpw@mail.gmail.com>\n",
    "Subject: Re: Hello again\n",
    "To: god@mail.weloveparty.ai-tools-online.xyz\n",
    "Content-Type: multipart/alternative; boundary=\"000000000000a11a5f05f75167fa\"\n",
    "\n",
    "\n",
    "\n",
    "\n",
    "\n",
    "\n",
    "\n",
    "X-Originating-IP: [113.92.156.179]\n",
    "Date: Mon, 20 Mar 2023 17:16:41 +0800 (GMT+08:00)\n",
    "From: \"yingshaoxo@163.com\" <yingshaoxo@163.com>\n",
    "To: \n",
    "        \"god@mail.weloveparty.ai-tools-online.xyz\" <god@mail.weloveparty.ai-tools-online.xyz>\n",
    "Subject: login: aaaaaaaaaabbbbbbbbbb\n",
    "X-Priority: 3\n",
    "X-Mailer: Coremail Webmail Server Version XT5.0.13 build 20210622(1d4788a8)\n",
    " MailAndroid/7.13.1_(12) Copyright (c) 2002-2023 www.mailtech.cn 163com\n",
    "X-NTES-SC: AL_QuycC/+bvEAr5yeRYukXnkoSguk7Wsayuvsn3YRSOps0gCvT5g8DW3lGH0voz/mIGx6ith6USjt/5cd\n",
    "\n",
    "\n",
    "\n",
    "\n",
    "\n",
    "\n",
    "         vrgYgHmej9MwFsLZeTZP0T0B7ZtF6Hj679yZ+xJc/lvEEqE8pNn7pg0/KOf0oOxFISC1HD3gjTrWS\n",
    "         GpLTFazDAssp77UsXJpR7qMWYRNJfzYma9FDhXIDXBdK5w8A+gzZX/eK7RGlArcTxOOHuqZcBGSge\n",
    "         uWtMXKYpe4heTgI5szVITIcX/nOSfed8eFT1v+IDbnVNMXe0AQ6sQ==\n",
    "From: \"=?utf-8?B?eWluZ3NoYW94bw==?=\" <1576570260@qq.com>\n",
    "To: \"=?utf-8?B?Z29k?=\" <god@mail.weloveparty.ai-tools-online.xyz>\n",
    "Subject: Hi\n",
    "Mime-Version: 1.0\n",
    "Content-Type: multipart/alternative;\n",
    "        boundary=\"----=_NextPart_64181E1B_8B99AF80_409B30AC\"\n",
    "Content-Transfer-Encoding: 8Bit\n",
    "Date: Mon, 20 Mar 202\n",
    "\"\"\"\n",
    "\n",
    "title_list = re.findall(r\"Subject:\\s+(.*)\", source_text, re.IGNORECASE)\n",
    "print(title_list)\n",
    "\n",
    "if len(title_list) == 0:\n",
    "    print(\"not found\")\n",
    "else:\n",
    "    print(\"found: \", title_list[0])"
   ]
  },
  {
   "cell_type": "code",
   "execution_count": 1,
   "metadata": {},
   "outputs": [],
   "source": [
    "from auto_everything.my_email import SMTP_Service\n",
    "\n",
    "def handle_email(from_: str, to: str, message: str):\n",
    "    print(from_)\n",
    "    print(to)\n",
    "    print(message)\n",
    "\n",
    "smtp_service = SMTP_Service(\n",
    "    host=\"0.0.0.0\",\n",
    "    port=25,\n",
    "    handler=handle_email\n",
    ")\n",
    "\n",
    "smtp_service.start()"
   ]
  },
  {
   "cell_type": "code",
   "execution_count": null,
   "metadata": {},
   "outputs": [],
   "source": []
  }
 ],
 "metadata": {
  "kernelspec": {
   "display_name": "Python 3.10.8 64-bit",
   "language": "python",
   "name": "python3"
  },
  "language_info": {
   "codemirror_mode": {
    "name": "ipython",
    "version": 3
   },
   "file_extension": ".py",
   "mimetype": "text/x-python",
   "name": "python",
   "nbconvert_exporter": "python",
   "pygments_lexer": "ipython3",
   "version": "3.10.10"
  },
  "orig_nbformat": 4,
  "vscode": {
   "interpreter": {
    "hash": "b0fa6594d8f4cbf19f97940f81e996739fb7646882a419484c72d19e05852a7e"
   }
  }
 },
 "nbformat": 4,
 "nbformat_minor": 2
}
